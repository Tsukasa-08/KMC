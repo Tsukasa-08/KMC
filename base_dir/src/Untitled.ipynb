{
 "cells": [
  {
   "cell_type": "code",
   "execution_count": 7,
   "id": "029f2f59-7cc5-4bc1-a23f-7d9b48c83f12",
   "metadata": {},
   "outputs": [
    {
     "name": "stdout",
     "output_type": "stream",
     "text": [
      "-2.462567132940326\n"
     ]
    }
   ],
   "source": [
    "import math\n",
    "\n",
    "#kBT前の比例定数\n",
    "const = 0.1\n",
    "\n",
    "#kB(eV/K) : ボルツマン定数\n",
    "kb = 8.617333 * (10**(-5))\n",
    "\n",
    "#T(K) : 絶対温度\n",
    "T = 600\n",
    "\n",
    "#q(無次元) : イオンの価数\n",
    "q = 1\n",
    "\n",
    "#d(Å) : ジャンプの平均距離\n",
    "d = 1.5\n",
    "\n",
    "#E(eV/Å) : かける電場の強さ\n",
    "E = (const * kb * T) / (q * d)\n",
    "logE = math.log10(E)\n",
    "\n",
    "print(logE)"
   ]
  },
  {
   "cell_type": "code",
   "execution_count": null,
   "id": "aa5edd87-24eb-4e1d-91be-7d8df9ab43c6",
   "metadata": {},
   "outputs": [],
   "source": []
  }
 ],
 "metadata": {
  "kernelspec": {
   "display_name": "Python 3 (ipykernel)",
   "language": "python",
   "name": "python3"
  },
  "language_info": {
   "codemirror_mode": {
    "name": "ipython",
    "version": 3
   },
   "file_extension": ".py",
   "mimetype": "text/x-python",
   "name": "python",
   "nbconvert_exporter": "python",
   "pygments_lexer": "ipython3",
   "version": "3.8.2"
  }
 },
 "nbformat": 4,
 "nbformat_minor": 5
}
